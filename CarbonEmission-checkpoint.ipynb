{
 "cells": [
  {
   "cell_type": "code",
   "execution_count": 3,
   "id": "10a5ea50-44da-4f1a-8ee6-cafac4498c32",
   "metadata": {},
   "outputs": [],
   "source": [
    "import pandas as pd\n",
    "import numpy as np\n",
    "import matplotlib.pyplot as plt\n",
    "import seaborn as sns\n",
    "import plotly.express as px\n",
    "import folium\n",
    "from folium.plugins import MarkerCluster\n",
    "from sklearn.model_selection import train_test_split\n",
    "from sklearn.ensemble import RandomForestRegressor\n",
    "from sklearn.metrics import mean_squared_error, r2_score\n",
    "import joblib\n"
   ]
  },
  {
   "cell_type": "code",
   "execution_count": 2,
   "id": "453acd51-831a-4f86-9733-debb5f60739e",
   "metadata": {},
   "outputs": [
    {
     "name": "stdout",
     "output_type": "stream",
     "text": [
      "Collecting folium\n",
      "  Downloading folium-0.19.5-py2.py3-none-any.whl.metadata (4.1 kB)\n",
      "Collecting branca>=0.6.0 (from folium)\n",
      "  Downloading branca-0.8.1-py3-none-any.whl.metadata (1.5 kB)\n",
      "Requirement already satisfied: jinja2>=2.9 in c:\\users\\devanshi bansal\\anaconda3\\lib\\site-packages (from folium) (3.1.3)\n",
      "Requirement already satisfied: numpy in c:\\users\\devanshi bansal\\anaconda3\\lib\\site-packages (from folium) (1.26.4)\n",
      "Requirement already satisfied: requests in c:\\users\\devanshi bansal\\anaconda3\\lib\\site-packages (from folium) (2.31.0)\n",
      "Requirement already satisfied: xyzservices in c:\\users\\devanshi bansal\\anaconda3\\lib\\site-packages (from folium) (2022.9.0)\n",
      "Requirement already satisfied: MarkupSafe>=2.0 in c:\\users\\devanshi bansal\\anaconda3\\lib\\site-packages (from jinja2>=2.9->folium) (2.1.3)\n",
      "Requirement already satisfied: charset-normalizer<4,>=2 in c:\\users\\devanshi bansal\\anaconda3\\lib\\site-packages (from requests->folium) (2.0.4)\n",
      "Requirement already satisfied: idna<4,>=2.5 in c:\\users\\devanshi bansal\\anaconda3\\lib\\site-packages (from requests->folium) (3.4)\n",
      "Requirement already satisfied: urllib3<3,>=1.21.1 in c:\\users\\devanshi bansal\\anaconda3\\lib\\site-packages (from requests->folium) (2.0.7)\n",
      "Requirement already satisfied: certifi>=2017.4.17 in c:\\users\\devanshi bansal\\anaconda3\\lib\\site-packages (from requests->folium) (2024.2.2)\n",
      "Downloading folium-0.19.5-py2.py3-none-any.whl (110 kB)\n",
      "   ---------------------------------------- 0.0/110.9 kB ? eta -:--:--\n",
      "   ---------------------------------------- 0.0/110.9 kB ? eta -:--:--\n",
      "   --- ------------------------------------ 10.2/110.9 kB ? eta -:--:--\n",
      "   ---------- ---------------------------- 30.7/110.9 kB 330.3 kB/s eta 0:00:01\n",
      "   --------------------- ----------------- 61.4/110.9 kB 469.7 kB/s eta 0:00:01\n",
      "   -------------------------------------- 110.9/110.9 kB 645.2 kB/s eta 0:00:00\n",
      "Downloading branca-0.8.1-py3-none-any.whl (26 kB)\n",
      "Installing collected packages: branca, folium\n",
      "Successfully installed branca-0.8.1 folium-0.19.5\n"
     ]
    }
   ],
   "source": [
    "!pip install folium\n"
   ]
  },
  {
   "cell_type": "code",
   "execution_count": null,
   "id": "311eb060-81e8-4075-8fd0-e66947094f07",
   "metadata": {},
   "outputs": [],
   "source": [
    "df = pd.read_csv(\"carbonemission.csv\")\n",
    "\n",
    "df['pollution_index'] = df['vehicles_per_km'] * df['industrial_zones']\n",
    "df['eco_score'] = df['renewable_pct'] / df['energy_use_gwh']\n",
    "df.head()\n"
   ]
  }
 ],
 "metadata": {
  "kernelspec": {
   "display_name": "Python 3 (ipykernel)",
   "language": "python",
   "name": "python3"
  },
  "language_info": {
   "codemirror_mode": {
    "name": "ipython",
    "version": 3
   },
   "file_extension": ".py",
   "mimetype": "text/x-python",
   "name": "python",
   "nbconvert_exporter": "python",
   "pygments_lexer": "ipython3",
   "version": "3.11.7"
  }
 },
 "nbformat": 4,
 "nbformat_minor": 5
}
